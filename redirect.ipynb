{
 "cells": [
  {
   "cell_type": "code",
   "execution_count": 3,
   "metadata": {},
   "outputs": [],
   "source": [
    "import os\n",
    "import pickle\n",
    "from collections import defaultdict"
   ]
  },
  {
   "cell_type": "code",
   "execution_count": 4,
   "metadata": {},
   "outputs": [],
   "source": [
    "ROOT = os.getcwd()[:-20]"
   ]
  },
  {
   "cell_type": "code",
   "execution_count": 5,
   "metadata": {},
   "outputs": [],
   "source": [
    "def get_redirects(lang):\n",
    "    p = os.path.join(ROOT, 'dumps', lang)\n",
    "    files = os.listdir(p)\n",
    "    resultindex = defaultdict(list)\n",
    "    for file in files:\n",
    "        if file.endswith('.bin'):\n",
    "            data = pickle.load(open(os.path.join(p, file), 'rb'))\n",
    "            for key, value in data.items():\n",
    "                try:\n",
    "                    if value[0].startswith('REDIRECT'):\n",
    "                        resultindex[value[1][0]['link']].append(key)\n",
    "                except:\n",
    "                    continue\n",
    "    pickle.dump(resultindex, open(os.path.join(p, 'redirect'), 'wb'))\n",
    "    return resultindex"
   ]
  },
  {
   "cell_type": "code",
   "execution_count": 8,
   "metadata": {},
   "outputs": [],
   "source": [
    "test = get_redirects('uk')"
   ]
  }
 ],
 "metadata": {
  "kernelspec": {
   "display_name": "Python 3.8.10 64-bit",
   "language": "python",
   "name": "python3"
  },
  "language_info": {
   "codemirror_mode": {
    "name": "ipython",
    "version": 3
   },
   "file_extension": ".py",
   "mimetype": "text/x-python",
   "name": "python",
   "nbconvert_exporter": "python",
   "pygments_lexer": "ipython3",
   "version": "3.8.10"
  },
  "orig_nbformat": 4,
  "vscode": {
   "interpreter": {
    "hash": "6eb9e1cf2af2cf6251f1c932a803c6b2f25b1e2cfa2de873853bae064510a498"
   }
  }
 },
 "nbformat": 4,
 "nbformat_minor": 2
}
