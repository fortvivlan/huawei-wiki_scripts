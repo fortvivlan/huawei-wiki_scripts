{
 "cells": [
  {
   "cell_type": "markdown",
   "metadata": {},
   "source": [
    "Может читать статьи и получать чистый текст и все ссылки в этих статьях. Тексты ссылок могут пригодиться. "
   ]
  },
  {
   "cell_type": "code",
   "execution_count": 13,
   "metadata": {},
   "outputs": [],
   "source": [
    "from wiki_dump_reader import Cleaner, iterate\n",
    "\n",
    "cleaner = Cleaner()\n",
    "i = 0\n",
    "test = open('textwiki.txt', 'w', encoding='utf8')\n",
    "for title, text in iterate(r'F:\\CODE\\Projects\\work\\huawei-wiki\\dumps\\ru\\ruwiki-20220701-pages-articles-multistream1.xml-p1p224167'):\n",
    "    if i > 10:\n",
    "        break\n",
    "    text = cleaner.clean_text(text)\n",
    "    cleaned_text, links = cleaner.build_links(text)\n",
    "    i += 1\n",
    "    print(f'text: {cleaned_text}\\n___\\nLinks: {links}', file=test)\n",
    "test.close()"
   ]
  },
  {
   "cell_type": "markdown",
   "metadata": {},
   "source": [
    "Попытка номер два с саксом"
   ]
  },
  {
   "cell_type": "code",
   "execution_count": 8,
   "metadata": {},
   "outputs": [],
   "source": [
    "path = r'F:\\CODE\\Projects\\work\\huawei-wiki\\dumps\\ru\\ruwiki-20220701-pages-articles-multistream6.xml-p9585766p9787309'"
   ]
  },
  {
   "cell_type": "code",
   "execution_count": 34,
   "metadata": {},
   "outputs": [],
   "source": [
    "import xml.sax\n",
    "\n",
    "class WikiXmlHandler(xml.sax.handler.ContentHandler):\n",
    "    \"\"\"Content handler for Wiki XML data using SAX\"\"\"\n",
    "    def __init__(self):\n",
    "        xml.sax.handler.ContentHandler.__init__(self)\n",
    "        self._buffer = None\n",
    "        self._values = {}\n",
    "        self._current_tag = None\n",
    "        self._pages = []\n",
    "\n",
    "    def characters(self, content):\n",
    "        \"\"\"Characters between opening and closing tags\"\"\"\n",
    "        if self._current_tag:\n",
    "            self._buffer.append(content)\n",
    "\n",
    "    def startElement(self, name, attrs):\n",
    "        \"\"\"Opening tag of element\"\"\"\n",
    "        if name in ('title', 'text', 'timestamp'):\n",
    "            self._current_tag = name\n",
    "            self._buffer = []\n",
    "\n",
    "    def endElement(self, name):\n",
    "        \"\"\"Closing tag of element\"\"\"\n",
    "        if name == self._current_tag:\n",
    "            self._values[name] = ' '.join(self._buffer)\n",
    "\n",
    "        if name == 'page':\n",
    "            self._pages.append((self._values['title'], self._values['text']))"
   ]
  },
  {
   "cell_type": "code",
   "execution_count": 35,
   "metadata": {},
   "outputs": [
    {
     "name": "stdout",
     "output_type": "stream",
     "text": [
      "['Ғәбиҙулла Ғәбделхәким улы Ҡорбанғәлиев', 'Мөхәммәт-Ғәбделхәй Ҡорбанғәлиев', 'Мөхетдин Хафиз улы Корбангалиев', 'Rahym Muhamedowiç Kurbanmämmedow', 'Täçmämmet Gurbanmämmedow', 'Ýolly Gurbanmyradow', 'Gurbanmyrat Gurbanmyradow', 'Kerim Gurbannepesow', 'Ağadadaş Qurbanov', 'Abdulla Abdurahmonovich Qurbonov', 'Anvar Sarmanovich Qurbonov', 'Afad Məhəmməd oğlu Qurbanov', 'Əhməd Qurbanov', 'Ahmadjon Qurbonov', 'Bahodir Nizomovich Qurbonov', 'Vaqif Qurbanov', 'Habil Surxay oğlu Qurbanov', 'Hamlet Qurbanov', 'İbrahim Musa oğlu Qurbanov', 'Qurban Səid oğlu Qurbanov', 'Black Lion', 'Maqsud Rüstəm oğlu Qurbanov', 'Мамадали Қурбонович Қурбонов', 'Mamadali Qurbonovich Qurbonov', 'Merdan Gurbangeldiýewiç Gurbanow', 'Олим Қурбонов', 'Ravshanbek Davletovich Qurbonov', 'Рашад Афат оглы Курбанов', 'Ruslan Qurbonov', 'Ruslan Eldaroviç Qurbanov', 'Sənan Qurbanov', 'Sahetmyrat Gurbanow', 'Убайдулло Абдулло Қурбон', \"O'tkir Qurbonov\", 'Şıxəli Qurban oğlu Qurbanov', 'Şöhrat Kurbanow', 'Юсуп Гурбанов', 'Arzu Qurbanova', 'Zarina Qurbonova', 'Mahmuzər Yusif qızı Qurbanova', 'Nurxon Qurbonova', 'Hökümə Qurbanova', 'Розия Қурбонова', 'Gurbandurdy Gurbansähedow', 'Сафарали Завқибекович Қурбоншоев', 'Amédée-Anatole-Prosper Courbet', 'Пезлово (Ивановская область)', 'Δημήτρης Κουρμπέλης', 'Vladimir Curbet', 'Guillaume de Courbière', 'Пёдр', 'Rolland Courbis', 'Наврузшоҳ Қурбонусейнов', 'Abdurahim Eshonqulovich Qurbonov', 'Кароматулло Қурбонов', 'Soib Qurbonov', 'Charles-Marie Courboin', 'Юрый Аляксеевіч Курбыка', 'Jürgen Kurbjuhn', 'Wiel Coerver', 'Joachim Thibault de Courville', 'Ants Kurvits', 'Oskar Kurvits', 'Raoul Kurvits', 'Robert Kurvits', 'Walter Courvoisier', 'Karl', 'René Courvoisier', 'Кургаєв Олександр Пилипович', 'Ілля Львовіч Курган', 'Ісаак Маркавіч Курган', 'Сяргей Ігаравіч Курганскі', 'Михаил Абрамович Грисман', 'Շուշանիկ Կուրղինյան', 'Кургъуокъуэ ХьэтӀохъущокъуэ', 'Нұртас Кургулин', 'محمد كرد علي', 'Victor Courdaveaux', 'Pierre-Charles Courdaveaux', 'გრიგოლ ზაქარიას ძე ქურდიანი', 'ზაქარია ქურდიანი', 'მალხაზ ქურდიანი', 'სოლომონ ზაქარიას ძე ქურდიანი', 'Կարեն Գրիգորիի Կուրդիյան', 'Qanat Kûrdoev', 'Курдидик Анатоль Петрович', \"Курдюмов Олександр В'ячеславович\", 'Leonīds Kurdjumovs', 'Dany José Cure Correa', 'Urve Kure', 'أحمد قريع', 'Андрэй Уладзіміравіч Курэйчык', 'Hanif Kureishi', 'Jalu Kurek', 'Fran Kurelac', 'Валерій Юрійович Курелєх', 'Jānis Kurelis', 'Alfred Kurella', 'Ernst Gottfried Kurella', 'Costin Romeo Curelea', 'Richard Kuremaa']\n"
     ]
    }
   ],
   "source": [
    "# Object for handling xml\n",
    "handler = WikiXmlHandler()\n",
    "\n",
    "# Parsing object\n",
    "parser = xml.sax.make_parser()\n",
    "parser.setContentHandler(handler)\n",
    "\n",
    "for i, line in enumerate(open(path, encoding='utf8')):\n",
    "    parser.feed(line)\n",
    "    \n",
    "    # Stop when 3 articles have been found\n",
    "    if len(handler._pages) > 100:\n",
    "        break\n",
    "        \n",
    "print([x[0] for x in handler._pages], sep='\\n\\n')"
   ]
  },
  {
   "cell_type": "code",
   "execution_count": 36,
   "metadata": {},
   "outputs": [
    {
     "data": {
      "text/plain": [
       "('Ғәбиҙулла Ғәбделхәким улы Ҡорбанғәлиев',\n",
       " '#REDIRECT [[Курбангалиев, Габидулла Габдул-Хакимович]]')"
      ]
     },
     "execution_count": 36,
     "metadata": {},
     "output_type": "execute_result"
    }
   ],
   "source": [
    "handler._pages[0]"
   ]
  },
  {
   "cell_type": "code",
   "execution_count": null,
   "metadata": {},
   "outputs": [],
   "source": [
    "for page in handler._pages:\n",
    "    if page[1].startswith('#REDIRECT'):\n",
    "        print(page[1])"
   ]
  },
  {
   "cell_type": "code",
   "execution_count": 27,
   "metadata": {},
   "outputs": [
    {
     "name": "stdout",
     "output_type": "stream",
     "text": [
      "Населённые пункты Заволжского района (Ивановская область)\n"
     ]
    }
   ],
   "source": [
    "import re\n",
    "\n",
    "for page in handler._pages:\n",
    "    s = re.search(r'\\[\\[Категория:(.*?)]]', page[1])\n",
    "    if s:\n",
    "        print(s.group(1))"
   ]
  },
  {
   "cell_type": "code",
   "execution_count": 38,
   "metadata": {},
   "outputs": [
    {
     "name": "stdout",
     "output_type": "stream",
     "text": [
      "Мөхәммәт-Ғәбделхәй Ҡорбанғәлиев\n"
     ]
    }
   ],
   "source": [
    "import mwparserfromhell \n",
    "\n",
    "print(handler._pages[1][0])\n",
    "\n",
    "# Create the wiki article\n",
    "wiki = mwparserfromhell.parse(handler._pages[1][1])"
   ]
  },
  {
   "cell_type": "code",
   "execution_count": 39,
   "metadata": {},
   "outputs": [
    {
     "name": "stdout",
     "output_type": "stream",
     "text": [
      "There are 1 wikilinks.\n"
     ]
    },
    {
     "data": {
      "text/plain": [
       "['Курбангалиев, Мухаммед-Габдулхай']"
      ]
     },
     "execution_count": 39,
     "metadata": {},
     "output_type": "execute_result"
    }
   ],
   "source": [
    "wikilinks = [x.title for x in wiki.filter_wikilinks()]\n",
    "print(f'There are {len(wikilinks)} wikilinks.')\n",
    "wikilinks[:5]"
   ]
  },
  {
   "cell_type": "markdown",
   "metadata": {},
   "source": [
    "Темплейты"
   ]
  },
  {
   "cell_type": "code",
   "execution_count": 40,
   "metadata": {},
   "outputs": [
    {
     "name": "stdout",
     "output_type": "stream",
     "text": [
      "There are 0 templates.\n"
     ]
    }
   ],
   "source": [
    "templates = wiki.filter_templates()\n",
    "print(f'There are {len(templates)} templates.')\n",
    "for template in templates:\n",
    "    print(template.name)"
   ]
  },
  {
   "cell_type": "code",
   "execution_count": null,
   "metadata": {},
   "outputs": [],
   "source": [
    "# search template\n",
    "infobox = wiki.filter_templates(matches = 'Infobox radio station')[0]\n",
    "infobox"
   ]
  },
  {
   "cell_type": "code",
   "execution_count": null,
   "metadata": {},
   "outputs": [],
   "source": []
  }
 ],
 "metadata": {
  "kernelspec": {
   "display_name": "Python 3.8.10 64-bit",
   "language": "python",
   "name": "python3"
  },
  "language_info": {
   "codemirror_mode": {
    "name": "ipython",
    "version": 3
   },
   "file_extension": ".py",
   "mimetype": "text/x-python",
   "name": "python",
   "nbconvert_exporter": "python",
   "pygments_lexer": "ipython3",
   "version": "3.8.10"
  },
  "orig_nbformat": 4,
  "vscode": {
   "interpreter": {
    "hash": "6eb9e1cf2af2cf6251f1c932a803c6b2f25b1e2cfa2de873853bae064510a498"
   }
  }
 },
 "nbformat": 4,
 "nbformat_minor": 2
}
