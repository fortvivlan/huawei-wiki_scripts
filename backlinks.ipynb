{
 "cells": [
  {
   "cell_type": "code",
   "execution_count": 1,
   "metadata": {},
   "outputs": [],
   "source": [
    "import os\n",
    "import pickle\n",
    "from collections import Counter"
   ]
  },
  {
   "cell_type": "code",
   "execution_count": null,
   "metadata": {},
   "outputs": [],
   "source": [
    "ROOT = os.getcwd()[:-20]"
   ]
  },
  {
   "cell_type": "code",
   "execution_count": 2,
   "metadata": {},
   "outputs": [],
   "source": [
    "def search_backlinks(lang, catpath, cat):\n",
    "    nokler = pickle.load(open(catpath, 'rb'))\n",
    "    res = {nokkel: Counter() for nokkel in nokler}\n",
    "    for file in os.listdir(f'{ROOT}/dumps/{lang}'):\n",
    "        if not file.endswith('.bin'):\n",
    "            continue\n",
    "        fullbase = pickle.load(open(os.path.join(f'{ROOT}/dumps/{lang}', file), 'rb'))\n",
    "        for key, value in fullbase.items():\n",
    "            if value[1]:\n",
    "                for link in value[1]:\n",
    "                    if link['link'] != link['text']:\n",
    "                        if link['link'] in nokler:\n",
    "                            res[link['link']][link['text']] += 1\n",
    "    pickle.dump(res, open(f'{ROOT}/dumps/{lang}/backlinks_{cat}', 'wb'))\n",
    "    count = 0\n",
    "    for value in res.values():\n",
    "        if not value:\n",
    "            count += 1\n",
    "    return count"
   ]
  },
  {
   "cell_type": "code",
   "execution_count": 21,
   "metadata": {},
   "outputs": [
    {
     "name": "stdout",
     "output_type": "stream",
     "text": [
      "PER: 421\n",
      "LOC: 2\n",
      "ORG: 718\n"
     ]
    }
   ],
   "source": [
    "print(f\"PER: {search_backlinks('be', '{ROOT}/names/be_per_5000', 'per')}\")\n",
    "print(f\"LOC: {search_backlinks('be', '{ROOT}/names/be_loc_575', 'loc')}\")\n",
    "print(f\"ORG: {search_backlinks('be', '{ROOT}/names/be_org_3000', 'org')}\")"
   ]
  },
  {
   "cell_type": "code",
   "execution_count": 22,
   "metadata": {},
   "outputs": [
    {
     "name": "stdout",
     "output_type": "stream",
     "text": [
      "PER: 1264\n",
      "LOC: 1\n",
      "ORG: 186\n"
     ]
    }
   ],
   "source": [
    "print(f\"PER: {search_backlinks('pl', '{ROOT}/names/pl_per_5000', 'per')}\")\n",
    "print(f\"LOC: {search_backlinks('pl', '{ROOT}/names/pl_loc_565', 'loc')}\")\n",
    "print(f\"ORG: {search_backlinks('pl', '{ROOT}/names/pl_org_3000', 'org')}\")"
   ]
  },
  {
   "cell_type": "code",
   "execution_count": 23,
   "metadata": {},
   "outputs": [
    {
     "name": "stdout",
     "output_type": "stream",
     "text": [
      "PER: 24\n",
      "LOC: 0\n",
      "ORG: 60\n"
     ]
    }
   ],
   "source": [
    "print(f\"PER: {search_backlinks('ru', '{ROOT}/names/ru_per_5000', 'per')}\")\n",
    "print(f\"LOC: {search_backlinks('ru', '{ROOT}/names/ru_loc_573', 'loc')}\")\n",
    "print(f\"ORG: {search_backlinks('ru', '{ROOT}/names/ru_org_3000', 'org')}\")"
   ]
  },
  {
   "cell_type": "code",
   "execution_count": 3,
   "metadata": {},
   "outputs": [
    {
     "name": "stdout",
     "output_type": "stream",
     "text": [
      "PRO: 111\n"
     ]
    }
   ],
   "source": [
    "print(f\"PRO: {search_backlinks('ru', '{ROOT}/names/ru_pro_2484', 'pro')}\")"
   ]
  },
  {
   "cell_type": "code",
   "execution_count": 24,
   "metadata": {},
   "outputs": [
    {
     "name": "stdout",
     "output_type": "stream",
     "text": [
      "PER: 568\n",
      "LOC: 0\n",
      "ORG: 155\n"
     ]
    }
   ],
   "source": [
    "print(f\"PER: {search_backlinks('uk', '{ROOT}/names/uk_per_5000', 'per')}\")\n",
    "print(f\"LOC: {search_backlinks('uk', '{ROOT}/names/uk_loc_570', 'loc')}\")\n",
    "print(f\"ORG: {search_backlinks('uk', '{ROOT}/names/uk_org_3000', 'org')}\")"
   ]
  }
 ],
 "metadata": {
  "kernelspec": {
   "display_name": "Python 3.9.12 ('huawei')",
   "language": "python",
   "name": "python3"
  },
  "language_info": {
   "codemirror_mode": {
    "name": "ipython",
    "version": 3
   },
   "file_extension": ".py",
   "mimetype": "text/x-python",
   "name": "python",
   "nbconvert_exporter": "python",
   "pygments_lexer": "ipython3",
   "version": "3.9.12"
  },
  "orig_nbformat": 4,
  "vscode": {
   "interpreter": {
    "hash": "2bb79a41a93e0a2295d76faf94992bd34b2d2d698776e22ca1184eb4e5811e07"
   }
  }
 },
 "nbformat": 4,
 "nbformat_minor": 2
}
