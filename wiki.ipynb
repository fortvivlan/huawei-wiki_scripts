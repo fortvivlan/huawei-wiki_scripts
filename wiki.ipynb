{
 "cells": [
  {
   "cell_type": "code",
   "execution_count": 1,
   "metadata": {},
   "outputs": [],
   "source": [
    "import wikipediaapi\n",
    "import time\n",
    "import re\n",
    "import pickle\n",
    "import os\n",
    "from ipywidgets import IntText, Text, Box\n",
    "from IPython.display import display\n",
    "\n",
    "ROOT = os.getcwd()[:-20]"
   ]
  },
  {
   "cell_type": "code",
   "execution_count": 2,
   "metadata": {},
   "outputs": [],
   "source": [
    "class Harvester:\n",
    "    def __init__(self, rsize):\n",
    "        self.rsize = rsize\n",
    "        self.res = set()\n",
    "        self.lookup = set()\n",
    "\n",
    "    def _harvester(self, member, *, wiki_wiki, word, check=False, percent, text):\n",
    "        \"\"\"\n",
    "        member - wiki page title\n",
    "        wiki_wiki - language for wiki\n",
    "        res - final set of entities\n",
    "        check - regular expression with a list of undesired subcategories like 'inhabitants' inside a city category or False if you don't want to check anything\n",
    "        percent - technical variable for rendering the progress\n",
    "        text - technical variable for rendering current category\n",
    "        \"\"\"\n",
    "        if len(self.res) >= self.rsize:\n",
    "            return \n",
    "        time.sleep(1)\n",
    "        cat = wiki_wiki.page(member.title)\n",
    "        try:\n",
    "            for p in cat.categorymembers.values():\n",
    "                if check:\n",
    "                    if not (re.search(check, p.title) or p.title in self.lookup):  # we don't want to go inside an unwanted subcategory\n",
    "                        text.value = p.title\n",
    "                        self.lookup.add(p.title)\n",
    "                        self._harvester(p, wiki_wiki=wiki_wiki, word=word, check=check, percent=percent, text=text)\n",
    "                else:\n",
    "                    self._harvester(p, wiki_wiki=wiki_wiki, word=word, check=check, percent=percent, text=text)\n",
    "        except KeyError:\n",
    "            if re.search(r'(?i)\\b(список|спіс|spis|lista|kategoria|катэгорыя|категор[іи]я|відносини)\\b', member.title):  # universal check for unwanted pages\n",
    "                return    \n",
    "            try:\n",
    "                for key in member.categories.keys():\n",
    "                    if re.search(word, key):\n",
    "                        self.res.add(member.title)\n",
    "                        percent.value = len(self.res)\n",
    "                        return \n",
    "                    else:\n",
    "                        continue  \n",
    "            except:\n",
    "                return \n",
    "\n",
    "    def harvest(self, *, lang, category, word, check=False):\n",
    "        '''Wrapper function for harverster with check'''\n",
    "        wiki_wiki = wikipediaapi.Wikipedia(lang)\n",
    "        cat = wiki_wiki.page(category)\n",
    "\n",
    "        percent = IntText(value=0, disabled=True)\n",
    "        text = Text(value=None, disabled=True)\n",
    "        box = Box(children=[percent, text])\n",
    "        display(box)\n",
    "        \n",
    "        self._harvester(cat, wiki_wiki=wiki_wiki, word=word, check=check, percent=percent, text=text)\n",
    "\n",
    "    def writeres(self, lang, type):\n",
    "        pickle.dump(self.res, open(f'{ROOT}/names/{lang}_{type}_{len(self.res)}', 'wb'))\n",
    "\n",
    "    def showres(self, to_show):\n",
    "        i = 0\n",
    "        for elem in self.res:\n",
    "            if i >= to_show:\n",
    "                break\n",
    "            i += 1\n",
    "            print(elem)\n",
    "\n",
    "    def results(self):\n",
    "        return self.res\n",
    "\n",
    "    def renew(self):\n",
    "        self.res = set()\n",
    "\n",
    "    def help(self):\n",
    "        print('Use harvest function. Variables: lang=language, category=head category to start, word=check word for final entity addition, check(optional)=regular expression for filtering subcategories')"
   ]
  },
  {
   "cell_type": "markdown",
   "metadata": {},
   "source": [
    "**PER entities**"
   ]
  },
  {
   "cell_type": "code",
   "execution_count": 3,
   "metadata": {},
   "outputs": [
    {
     "data": {
      "application/vnd.jupyter.widget-view+json": {
       "model_id": "9dc76ef2ae8b4ab6b54052f2c90c24c3",
       "version_major": 2,
       "version_minor": 0
      },
      "text/plain": [
       "Box(children=(IntText(value=0, disabled=True), Text(value='', disabled=True)))"
      ]
     },
     "metadata": {},
     "output_type": "display_data"
    }
   ],
   "source": [
    "worker = Harvester(5000)\n",
    "worker.renew()\n",
    "worker.harvest(lang='be', category='Катэгорыя:Нарадзіліся ў XX стагоддзі', word='нарадзіліся')\n",
    "worker.writeres('be', 'per')"
   ]
  },
  {
   "cell_type": "code",
   "execution_count": null,
   "metadata": {},
   "outputs": [],
   "source": [
    "worker = Harvester(5000)\n",
    "\n",
    "# ru\n",
    "\n",
    "worker.harvest(lang='ru', category='Категория:Родившиеся в XX веке', word='родившиеся')\n",
    "worker.writeres('ru', 'per')\n",
    "\n",
    "# be\n",
    "\n",
    "worker.renew()\n",
    "worker.harvest(lang='be', category='Катэгорыя:Нарадзіліся ў XX стагоддзі', word='нарадзіліся')\n",
    "worker.writeres('be', 'per')\n",
    "\n",
    "# uk\n",
    "\n",
    "worker.renew()\n",
    "worker.harvest(lang='uk', category='Категорія:Народились у 20 столітті', word='народил')\n",
    "worker.writeres('uk', 'per')\n",
    "\n",
    "# pl\n",
    "\n",
    "worker.renew()\n",
    "worker.harvest(lang='pl', category='Kategoria:Urodzeni w XX wieku', word='urodzeni')\n",
    "worker.writeres('pl', 'per')"
   ]
  },
  {
   "cell_type": "markdown",
   "metadata": {},
   "source": [
    "**LOC entities**"
   ]
  },
  {
   "cell_type": "code",
   "execution_count": 4,
   "metadata": {},
   "outputs": [],
   "source": [
    "worker = Harvester(3000)"
   ]
  },
  {
   "cell_type": "code",
   "execution_count": null,
   "metadata": {},
   "outputs": [],
   "source": [
    "worker.harvest(lang='be', category='Катэгорыя:Дзяржавы паводле алфавіта', word='дзяржавы')\n",
    "cities = re.compile(r'Архітэктура|Гісторыя|Постаці|Адукацыя|Арганізацыі|Вуліцы|Культура|Паркі|Спорт|Транспарт')\n",
    "worker.harvest(lang='be', category='Катэгорыя:Сталіцы', word='гарады', check=cities)\n",
    "worker.writeres('be', 'loc')"
   ]
  },
  {
   "cell_type": "code",
   "execution_count": 19,
   "metadata": {},
   "outputs": [
    {
     "data": {
      "application/vnd.jupyter.widget-view+json": {
       "model_id": "a0fd222f5712415db9d09d94a0b918aa",
       "version_major": 2,
       "version_minor": 0
      },
      "text/plain": [
       "Box(children=(IntText(value=0, disabled=True), Text(value='', disabled=True)))"
      ]
     },
     "metadata": {},
     "output_type": "display_data"
    },
    {
     "name": "stdout",
     "output_type": "stream",
     "text": [
      "cities\n"
     ]
    },
    {
     "data": {
      "application/vnd.jupyter.widget-view+json": {
       "model_id": "78c9aec9e8bf451086964e02f6113db3",
       "version_major": 2,
       "version_minor": 0
      },
      "text/plain": [
       "Box(children=(IntText(value=0, disabled=True), Text(value='', disabled=True)))"
      ]
     },
     "metadata": {},
     "output_type": "display_data"
    }
   ],
   "source": [
    "countries = re.compile(r'(?i)Колишні|Географі|Футбол|Кавалери|монархі|Геологі|Іспанці|Святий Престол|Економі|Історія|Еміратів|Округи|Нагірний Карабах|Дипломати|Посли|орден|Біота|копалини|Культ|Померли|Уродженці|Підприємства|Політи[кч]|Транспорт|Уряди|Незавершені статті|Збройні сили|Зображення|Населення|Наук|Персоналії|Природа|Списки|Спорт|Суспільство|Шаблони|Фауна|Портал|Столиці|Архітектура|Історичні|діаспора|Військові|Категорії|Окуповані|Право|Вікіпроєкт|Інтернет|Французи|Чехи|Шведи|Японці|Фільми|поділ|Гідрографія|Рельєф|Штати|Державна влада|Відносини|Техніка|символи|Міс[тц]|Села|Учасники|Фортеці|мова|Регіони|райони')\n",
    "worker.harvest(lang='uk', category='Категорія:Країни за континентом', word='країни', check=countries)\n",
    "print('cities')\n",
    "cities = re.compile(r'Архітектура|Географія|Історія|Кавалери|Культ|Освіта|Святий Престол|Персоналії|Підприємства|Спорт|Транспорт|Померли|Уродженці|орден|Випускники|Дипломати|Шаблони|Списки|Вулиці|Зображення|Організації|Парки|Площі|Райони|Туризм|Цвинтарі|Портал|Незавершені статті|Військові формування|Економіка|Медицина|Населення|Наук|Об\\'єкти|Політи[кч]|Природа|Суди|поділ|ЗМІ|діаспора|Релігія|Романи|Квартали|місц|заклади|академи|університ|споруди')\n",
    "worker.harvest(lang='uk', category='Категорія:Столиці', word='столиці', check=cities)\n",
    "worker.writeres('uk', 'loc')"
   ]
  },
  {
   "cell_type": "code",
   "execution_count": null,
   "metadata": {},
   "outputs": [],
   "source": [
    "worker.renew()\n",
    "countries = re.compile(r'historyczne|Kategorie|Ludzie|Architektura|Geografia|Gospodarka|Historia|Kultura|Polityka|Sport|Stosunki|Symbole|Etnografia|[Pp]odział|Geologia|Meksykanie|odznaczenia|Nauka|Turystyka|Wojsko|ńskie|Zagadnienia|Edukacja|[pP]rzyrod|Prawo|Siły Zbrojne|Społeczeństwo|Superkomputery|Wydarzenia|Sztuka|Stolice|Flagi|Język|Biblioteka|Konklawe|Media|Poch[oó]w|Utwory|Szablony|Herby|Klasztory|[oO]rganizacje|Oświata|Parki|Policja|Samorząd|Armie|Filmy|Konflikt|Politycy|Prasa|Rada|Adwokatura|Krajoznawstwo|Konserwatyzm|Ochrona|Stereotypy|Urbanistyka|Więziennictwo|Miejsca')\n",
    "worker.harvest(lang='pl', category='Kategoria:Państwa według kontynentów', word='państwa', check=countries)\n",
    "cities = re.compile(r'Ludzie|Igrzyska|Obiekty|Religia')\n",
    "worker.harvest(lang='pl', category='Kategoria:Stolice', word='miasta', check=cities)\n",
    "worker.writeres('pl', 'loc')"
   ]
  },
  {
   "cell_type": "code",
   "execution_count": null,
   "metadata": {},
   "outputs": [],
   "source": [
    "worker.renew()\n",
    "worker.harvest(lang='ru', category='Категория:Государства по алфавиту', word='государств')\n",
    "countries = re.compile(r'(?i)География|уезды|Здания|сооружения|История|Культура|Организации|Персоналии|Районы|Спорт|университет|Небоскрёбы|Компании|деление|Транспорт|заведения|Образование|транспорт')\n",
    "worker.harvest(lang='ru', category='Категория:Города-миллионеры по странам', word='города')\n",
    "worker.writeres('ru', 'loc')"
   ]
  },
  {
   "cell_type": "markdown",
   "metadata": {},
   "source": [
    "ORG entities"
   ]
  },
  {
   "cell_type": "code",
   "execution_count": 4,
   "metadata": {},
   "outputs": [],
   "source": [
    "worker = Harvester(3000)"
   ]
  },
  {
   "cell_type": "code",
   "execution_count": 4,
   "metadata": {},
   "outputs": [
    {
     "data": {
      "application/vnd.jupyter.widget-view+json": {
       "model_id": "857b0ab667fa4cddbd963bbdeb87a255",
       "version_major": 2,
       "version_minor": 0
      },
      "text/plain": [
       "Box(children=(IntText(value=0, disabled=True), Text(value='', disabled=True)))"
      ]
     },
     "metadata": {},
     "output_type": "display_data"
    }
   ],
   "source": [
    "#be\n",
    "\n",
    "worker.renew()\n",
    "# checker = re.compile(r'')\n",
    "worker.harvest(lang='be', category='Катэгорыя:Арганізацыі паводле алфавіта', word=re.compile('заснаваныя|арганізацыі|калектывы'))\n",
    "worker.writeres('be', 'org')"
   ]
  },
  {
   "cell_type": "code",
   "execution_count": 5,
   "metadata": {},
   "outputs": [
    {
     "data": {
      "application/vnd.jupyter.widget-view+json": {
       "model_id": "ae9b2eeebf744cc2816bff0561367941",
       "version_major": 2,
       "version_minor": 0
      },
      "text/plain": [
       "Box(children=(IntText(value=0, disabled=True), Text(value='', disabled=True)))"
      ]
     },
     "metadata": {},
     "output_type": "display_data"
    },
    {
     "data": {
      "application/vnd.jupyter.widget-view+json": {
       "model_id": "b4540bbafa914a978af2e825670478ee",
       "version_major": 2,
       "version_minor": 0
      },
      "text/plain": [
       "Box(children=(IntText(value=0, disabled=True), Text(value='', disabled=True)))"
      ]
     },
     "metadata": {},
     "output_type": "display_data"
    }
   ],
   "source": [
    "#uk\n",
    "\n",
    "worker.renew()\n",
    "checker = re.compile(r'(?i)Члени|Викладачі|Випускники|Учні|Науковці|Ректори|Військові|НАТО|Люди|фільми|програми|\\w+істи|Єпископи|Вікаріати|Єпархії|Монастирі|Нагороди|Священники|храми|Персоналії')\n",
    "worker.harvest(lang='uk', category='Категорія:Організації, засновані у XX столітті', word='засновані', check=checker)\n",
    "worker.harvest(lang='uk', category='Категорія:Організації, засновані у XXI столітті', word='засновані', check=checker)\n",
    "worker.writeres('uk', 'org')"
   ]
  },
  {
   "cell_type": "code",
   "execution_count": 7,
   "metadata": {},
   "outputs": [
    {
     "data": {
      "application/vnd.jupyter.widget-view+json": {
       "model_id": "fb40cdde73f1403d9630c663ab3b128f",
       "version_major": 2,
       "version_minor": 0
      },
      "text/plain": [
       "Box(children=(IntText(value=0, disabled=True), Text(value='', disabled=True)))"
      ]
     },
     "metadata": {},
     "output_type": "display_data"
    }
   ],
   "source": [
    "#ru\n",
    "\n",
    "worker.renew()\n",
    "checker = re.compile(r'(?i)монастыри|учебные|библиотеки|театры')\n",
    "worker.harvest(lang='ru', category='Категория:Организации, основанные в XX веке', word='основанные', check=checker)\n",
    "# worker.harvest(lang='uk', category='Категорія:Організації, засновані у XXI столітті', word='організації', check=checker)\n",
    "worker.writeres('ru', 'org')"
   ]
  },
  {
   "cell_type": "code",
   "execution_count": 8,
   "metadata": {},
   "outputs": [
    {
     "data": {
      "application/vnd.jupyter.widget-view+json": {
       "model_id": "bba47a9c1248476fae7b851bd96c400c",
       "version_major": 2,
       "version_minor": 0
      },
      "text/plain": [
       "Box(children=(IntText(value=0, disabled=True), Text(value='', disabled=True)))"
      ]
     },
     "metadata": {},
     "output_type": "display_data"
    }
   ],
   "source": [
    "#pl\n",
    "\n",
    "worker.renew()\n",
    "checker = re.compile(r'(?i)Kustosz|Ludzie|Lustracja|Periodyki|Pracownicy|Członk|ratownicze|muzea|Działacze|Żołnierze|sportowe|teatry|Nieistniejące|Szkoły|Legiony|Politycy|Bitwy|Odznaczeni|Ofiary|Okręgi|Prasa|Oddział|według|absolwenci|Wykładowcy|Rektorzy|bibliotek')\n",
    "worker.harvest(lang='pl', category='Kategoria:Organizacje według państw', word='(?i)organizacje|partie|przedsiębiorstwa|stowarzyszenia|fundacje|Instytuty', check=checker)\n",
    "# checker = re.compile(r'(?i)Kustosz|Ludzie|Lustracja|Periodyki|Pracownicy|Członkowie|Działacze|Politycy|Nieistniejące|Żołnierze|Bitwy|Ofiary|Okręgi|Prasa|Oddział')\n",
    "# worker.harvest(lang='pl', category='Kategoria:Partie i ugrupowania według państw', word='(?i)partie', check=checker)\n",
    "worker.writeres('pl', 'org')"
   ]
  },
  {
   "cell_type": "code",
   "execution_count": 11,
   "metadata": {},
   "outputs": [],
   "source": [
    "worker.writeres('ru', 'org')"
   ]
  },
  {
   "cell_type": "markdown",
   "metadata": {},
   "source": [
    "PROs"
   ]
  },
  {
   "cell_type": "code",
   "execution_count": 3,
   "metadata": {},
   "outputs": [],
   "source": [
    "worker = Harvester(3000)"
   ]
  },
  {
   "cell_type": "code",
   "execution_count": 4,
   "metadata": {},
   "outputs": [
    {
     "data": {
      "application/vnd.jupyter.widget-view+json": {
       "model_id": "582f1b233aec48fea164be8142cdef22",
       "version_major": 2,
       "version_minor": 0
      },
      "text/plain": [
       "Box(children=(IntText(value=0, disabled=True), Text(value='', disabled=True)))"
      ]
     },
     "metadata": {},
     "output_type": "display_data"
    },
    {
     "data": {
      "application/vnd.jupyter.widget-view+json": {
       "model_id": "21fcd8e9561346f5a5b73001f0870e83",
       "version_major": 2,
       "version_minor": 0
      },
      "text/plain": [
       "Box(children=(IntText(value=0, disabled=True), Text(value='', disabled=True)))"
      ]
     },
     "metadata": {},
     "output_type": "display_data"
    }
   ],
   "source": [
    "#ru\n",
    "worker.renew()\n",
    "worker.harvest(lang='ru', category='Категория:Смартфоны по операционным системам', word='смартфоны|устройства')\n",
    "checker = re.compile(r'(?i)серии|ремейки|приквелы|сиквелы|сборники|продолжения')\n",
    "worker.harvest(lang='ru', category='Категория:Серии компьютерных игр', word='игры', check=checker)\n",
    "worker.writeres('ru', 'pro')\n"
   ]
  },
  {
   "cell_type": "code",
   "execution_count": null,
   "metadata": {},
   "outputs": [],
   "source": []
  },
  {
   "cell_type": "markdown",
   "metadata": {},
   "source": [
    "Штаты США"
   ]
  },
  {
   "cell_type": "code",
   "execution_count": 2,
   "metadata": {},
   "outputs": [],
   "source": [
    "def get_parallels(targets, lrs, ld):\n",
    "    wiki_wiki = wikipediaapi.Wikipedia(ld)\n",
    "    res = []\n",
    "    for target in targets:\n",
    "        middle = {ld: target}\n",
    "        page = wiki_wiki.page(target)\n",
    "        langlinks = page.langlinks\n",
    "        for lr in lrs:\n",
    "            v = langlinks.get(lr)\n",
    "            if v:\n",
    "                middle[lr] = langlinks.get(lr).title\n",
    "            else:\n",
    "                middle[lr] = None\n",
    "        res.append(middle)\n",
    "    return res"
   ]
  },
  {
   "cell_type": "code",
   "execution_count": 3,
   "metadata": {},
   "outputs": [],
   "source": [
    "br = pickle.load(open(f'{ROOT}/names/be_loc_575', 'rb'))"
   ]
  },
  {
   "cell_type": "code",
   "execution_count": 4,
   "metadata": {},
   "outputs": [],
   "source": [
    "langs = get_parallels(br, ['ru', 'pl', 'uk'], 'be')"
   ]
  },
  {
   "cell_type": "code",
   "execution_count": 5,
   "metadata": {},
   "outputs": [
    {
     "data": {
      "text/html": [
       "<div>\n",
       "<style scoped>\n",
       "    .dataframe tbody tr th:only-of-type {\n",
       "        vertical-align: middle;\n",
       "    }\n",
       "\n",
       "    .dataframe tbody tr th {\n",
       "        vertical-align: top;\n",
       "    }\n",
       "\n",
       "    .dataframe thead th {\n",
       "        text-align: right;\n",
       "    }\n",
       "</style>\n",
       "<table border=\"1\" class=\"dataframe\">\n",
       "  <thead>\n",
       "    <tr style=\"text-align: right;\">\n",
       "      <th></th>\n",
       "      <th>be</th>\n",
       "      <th>ru</th>\n",
       "      <th>pl</th>\n",
       "      <th>uk</th>\n",
       "    </tr>\n",
       "  </thead>\n",
       "  <tbody>\n",
       "    <tr>\n",
       "      <th>0</th>\n",
       "      <td>Мадэйра</td>\n",
       "      <td>Мадейра</td>\n",
       "      <td>Madera</td>\n",
       "      <td>Мадейра (архіпелаг)</td>\n",
       "    </tr>\n",
       "    <tr>\n",
       "      <th>1</th>\n",
       "      <td>Берн</td>\n",
       "      <td>Берн</td>\n",
       "      <td>Berno</td>\n",
       "      <td>Берн</td>\n",
       "    </tr>\n",
       "    <tr>\n",
       "      <th>2</th>\n",
       "      <td>Мадрыд</td>\n",
       "      <td>Мадрид</td>\n",
       "      <td>Madryt</td>\n",
       "      <td>Мадрид</td>\n",
       "    </tr>\n",
       "    <tr>\n",
       "      <th>3</th>\n",
       "      <td>Швецыя</td>\n",
       "      <td>Швеция</td>\n",
       "      <td>Szwecja</td>\n",
       "      <td>Швеція</td>\n",
       "    </tr>\n",
       "    <tr>\n",
       "      <th>4</th>\n",
       "      <td>Самоа</td>\n",
       "      <td>Самоа</td>\n",
       "      <td>Samoa</td>\n",
       "      <td>Самоа</td>\n",
       "    </tr>\n",
       "  </tbody>\n",
       "</table>\n",
       "</div>"
      ],
      "text/plain": [
       "        be       ru       pl                   uk\n",
       "0  Мадэйра  Мадейра   Madera  Мадейра (архіпелаг)\n",
       "1     Берн     Берн    Berno                 Берн\n",
       "2   Мадрыд   Мадрид   Madryt               Мадрид\n",
       "3   Швецыя   Швеция  Szwecja               Швеція\n",
       "4    Самоа    Самоа    Samoa                Самоа"
      ]
     },
     "execution_count": 5,
     "metadata": {},
     "output_type": "execute_result"
    }
   ],
   "source": [
    "import pandas as pd\n",
    "\n",
    "langs = pd.DataFrame(langs)\n",
    "langs.head()"
   ]
  },
  {
   "cell_type": "code",
   "execution_count": 6,
   "metadata": {},
   "outputs": [],
   "source": [
    "ru = list(langs['ru'].dropna())\n",
    "pickle.dump(ru, open(f'{ROOT}/names/ru_loc_{len(ru)}', 'wb'))"
   ]
  },
  {
   "cell_type": "code",
   "execution_count": 7,
   "metadata": {},
   "outputs": [],
   "source": [
    "uk = list(langs['uk'].dropna())\n",
    "pickle.dump(uk, open(f'{ROOT}/names/uk_loc_{len(uk)}', 'wb'))"
   ]
  },
  {
   "cell_type": "code",
   "execution_count": 16,
   "metadata": {},
   "outputs": [],
   "source": [
    "pl = list(langs['pl'].dropna())\n",
    "pickle.dump(pl, open(f'{ROOT}/names/pl_loc_{len(pl)}', 'wb'))"
   ]
  },
  {
   "cell_type": "code",
   "execution_count": null,
   "metadata": {},
   "outputs": [],
   "source": [
    "states = get_loc('pl', 'Kategoria:Stany Stanów Zjednoczonych', 'stany', re.compile(r'Stany'))"
   ]
  }
 ],
 "metadata": {
  "kernelspec": {
   "display_name": "Python 3.9.12 ('huawei')",
   "language": "python",
   "name": "python3"
  },
  "language_info": {
   "codemirror_mode": {
    "name": "ipython",
    "version": 3
   },
   "file_extension": ".py",
   "mimetype": "text/x-python",
   "name": "python",
   "nbconvert_exporter": "python",
   "pygments_lexer": "ipython3",
   "version": "3.9.12"
  },
  "orig_nbformat": 4,
  "vscode": {
   "interpreter": {
    "hash": "2bb79a41a93e0a2295d76faf94992bd34b2d2d698776e22ca1184eb4e5811e07"
   }
  }
 },
 "nbformat": 4,
 "nbformat_minor": 2
}
