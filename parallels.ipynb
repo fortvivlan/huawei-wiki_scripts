{
 "cells": [
  {
   "cell_type": "code",
   "execution_count": 1,
   "metadata": {},
   "outputs": [],
   "source": [
    "import pandas as pd"
   ]
  },
  {
   "cell_type": "code",
   "execution_count": null,
   "metadata": {},
   "outputs": [],
   "source": [
    "ROOT = os.getcwd()[:-20]"
   ]
  },
  {
   "cell_type": "code",
   "execution_count": 12,
   "metadata": {},
   "outputs": [],
   "source": [
    "pl = pd.read_csv(r'data\\pl-ru-all.tsv', delimiter='\\t', names=['vec', 'pl', 'rus'])\n",
    "uk = pd.read_csv(r'data\\uk-ru-all.tsv', delimiter='\\t', names=['vec', 'rus', 'uk'])"
   ]
  },
  {
   "cell_type": "code",
   "execution_count": 13,
   "metadata": {},
   "outputs": [
    {
     "data": {
      "text/html": [
       "<div>\n",
       "<style scoped>\n",
       "    .dataframe tbody tr th:only-of-type {\n",
       "        vertical-align: middle;\n",
       "    }\n",
       "\n",
       "    .dataframe tbody tr th {\n",
       "        vertical-align: top;\n",
       "    }\n",
       "\n",
       "    .dataframe thead th {\n",
       "        text-align: right;\n",
       "    }\n",
       "</style>\n",
       "<table border=\"1\" class=\"dataframe\">\n",
       "  <thead>\n",
       "    <tr style=\"text-align: right;\">\n",
       "      <th></th>\n",
       "      <th>vec</th>\n",
       "      <th>rus</th>\n",
       "      <th>uk</th>\n",
       "    </tr>\n",
       "  </thead>\n",
       "  <tbody>\n",
       "    <tr>\n",
       "      <th>0</th>\n",
       "      <td>1.247357</td>\n",
       "      <td>О вы, которые уверовали!</td>\n",
       "      <td>مؤمن) — вірний, вірянин.</td>\n",
       "    </tr>\n",
       "    <tr>\n",
       "      <th>1</th>\n",
       "      <td>1.195253</td>\n",
       "      <td>Тому, кто прорицает, прорицанию и прорицателям...</td>\n",
       "      <td>Друга група властива тільки газоконденсатним п...</td>\n",
       "    </tr>\n",
       "    <tr>\n",
       "      <th>2</th>\n",
       "      <td>1.164032</td>\n",
       "      <td>Забыли все об этом страшном биче.</td>\n",
       "      <td>Забули всі про цей страшний бич.</td>\n",
       "    </tr>\n",
       "    <tr>\n",
       "      <th>3</th>\n",
       "      <td>1.162784</td>\n",
       "      <td>Holding Up Half the Sky. (англ.)</td>\n",
       "      <td>Holding Up Half the Sky.(англ.)</td>\n",
       "    </tr>\n",
       "    <tr>\n",
       "      <th>4</th>\n",
       "      <td>1.157957</td>\n",
       "      <td>Прежние названия: Sleep of Right и Ethereal.</td>\n",
       "      <td>Попередні назви: Sleep of Right та Ethereal.</td>\n",
       "    </tr>\n",
       "  </tbody>\n",
       "</table>\n",
       "</div>"
      ],
      "text/plain": [
       "        vec                                                rus  \\\n",
       "0  1.247357                           О вы, которые уверовали!   \n",
       "1  1.195253  Тому, кто прорицает, прорицанию и прорицателям...   \n",
       "2  1.164032                  Забыли все об этом страшном биче.   \n",
       "3  1.162784                   Holding Up Half the Sky. (англ.)   \n",
       "4  1.157957       Прежние названия: Sleep of Right и Ethereal.   \n",
       "\n",
       "                                                  uk  \n",
       "0                           مؤمن) — вірний, вірянин.  \n",
       "1  Друга група властива тільки газоконденсатним п...  \n",
       "2                   Забули всі про цей страшний бич.  \n",
       "3                    Holding Up Half the Sky.(англ.)  \n",
       "4       Попередні назви: Sleep of Right та Ethereal.  "
      ]
     },
     "execution_count": 13,
     "metadata": {},
     "output_type": "execute_result"
    }
   ],
   "source": [
    "uk.head()"
   ]
  },
  {
   "cell_type": "code",
   "execution_count": 15,
   "metadata": {},
   "outputs": [
    {
     "data": {
      "text/html": [
       "<div>\n",
       "<style scoped>\n",
       "    .dataframe tbody tr th:only-of-type {\n",
       "        vertical-align: middle;\n",
       "    }\n",
       "\n",
       "    .dataframe tbody tr th {\n",
       "        vertical-align: top;\n",
       "    }\n",
       "\n",
       "    .dataframe thead th {\n",
       "        text-align: right;\n",
       "    }\n",
       "</style>\n",
       "<table border=\"1\" class=\"dataframe\">\n",
       "  <thead>\n",
       "    <tr style=\"text-align: right;\">\n",
       "      <th></th>\n",
       "      <th>vec_x</th>\n",
       "      <th>pl</th>\n",
       "      <th>rus</th>\n",
       "      <th>vec_y</th>\n",
       "      <th>uk</th>\n",
       "    </tr>\n",
       "  </thead>\n",
       "  <tbody>\n",
       "    <tr>\n",
       "      <th>0</th>\n",
       "      <td>1.159713</td>\n",
       "      <td>Jak sama przyznała, dotrzymała obietnicy setki...</td>\n",
       "      <td>По её признанию она сдержала своё обещание сто...</td>\n",
       "      <td>1.027471</td>\n",
       "      <td>Він дотримався обіцянки, і з того часу здав кр...</td>\n",
       "    </tr>\n",
       "    <tr>\n",
       "      <th>1</th>\n",
       "      <td>1.155119</td>\n",
       "      <td>I zbiera się ją, i wrzuca do ognia, i płonie.”</td>\n",
       "      <td>Тому, кто прорицает, прорицанию и прорицателям...</td>\n",
       "      <td>1.195253</td>\n",
       "      <td>Друга група властива тільки газоконденсатним п...</td>\n",
       "    </tr>\n",
       "    <tr>\n",
       "      <th>2</th>\n",
       "      <td>1.136427</td>\n",
       "      <td>W 1989 około pięćdziesięciu białoruskich obywa...</td>\n",
       "      <td>В 1989 году около 50 граждан Белоруссии были у...</td>\n",
       "      <td>1.110665</td>\n",
       "      <td>В 1989 році близько 50 громадян Білорусі були ...</td>\n",
       "    </tr>\n",
       "    <tr>\n",
       "      <th>3</th>\n",
       "      <td>1.129270</td>\n",
       "      <td>Z jednej strony, mamy swe intuicje; z drugiej,...</td>\n",
       "      <td>С одной стороны, у нас есть интуиция, с другой...</td>\n",
       "      <td>1.123072</td>\n",
       "      <td>З одного боку у нас є наша інтуїція, з іншого ...</td>\n",
       "    </tr>\n",
       "    <tr>\n",
       "      <th>4</th>\n",
       "      <td>1.124494</td>\n",
       "      <td>Dawniej znana była jako Sleep of Right i Ether...</td>\n",
       "      <td>Прежние названия: Sleep of Right и Ethereal.</td>\n",
       "      <td>1.157957</td>\n",
       "      <td>Попередні назви: Sleep of Right та Ethereal.</td>\n",
       "    </tr>\n",
       "  </tbody>\n",
       "</table>\n",
       "</div>"
      ],
      "text/plain": [
       "      vec_x                                                 pl  \\\n",
       "0  1.159713  Jak sama przyznała, dotrzymała obietnicy setki...   \n",
       "1  1.155119     I zbiera się ją, i wrzuca do ognia, i płonie.”   \n",
       "2  1.136427  W 1989 około pięćdziesięciu białoruskich obywa...   \n",
       "3  1.129270  Z jednej strony, mamy swe intuicje; z drugiej,...   \n",
       "4  1.124494  Dawniej znana była jako Sleep of Right i Ether...   \n",
       "\n",
       "                                                 rus     vec_y  \\\n",
       "0  По её признанию она сдержала своё обещание сто...  1.027471   \n",
       "1  Тому, кто прорицает, прорицанию и прорицателям...  1.195253   \n",
       "2  В 1989 году около 50 граждан Белоруссии были у...  1.110665   \n",
       "3  С одной стороны, у нас есть интуиция, с другой...  1.123072   \n",
       "4       Прежние названия: Sleep of Right и Ethereal.  1.157957   \n",
       "\n",
       "                                                  uk  \n",
       "0  Він дотримався обіцянки, і з того часу здав кр...  \n",
       "1  Друга група властива тільки газоконденсатним п...  \n",
       "2  В 1989 році близько 50 громадян Білорусі були ...  \n",
       "3  З одного боку у нас є наша інтуїція, з іншого ...  \n",
       "4       Попередні назви: Sleep of Right та Ethereal.  "
      ]
     },
     "execution_count": 15,
     "metadata": {},
     "output_type": "execute_result"
    }
   ],
   "source": [
    "total = pd.merge(pl, uk, on='rus')\n",
    "total.head()"
   ]
  },
  {
   "cell_type": "code",
   "execution_count": 17,
   "metadata": {},
   "outputs": [],
   "source": [
    "pol = open(r'data\\polish.txt', 'w', encoding='utf8')\n",
    "rus = open(r'data\\russian.txt', 'w', encoding='utf8')\n",
    "ukr = open(r'data\\ukrainian.txt', 'w', encoding='utf8')"
   ]
  },
  {
   "cell_type": "code",
   "execution_count": 19,
   "metadata": {},
   "outputs": [],
   "source": [
    "for index, row in total.iterrows():\n",
    "    print(row['pl'], file=pol)\n",
    "    print(row['rus'], file=rus)\n",
    "    print(row['uk'], file=ukr)\n",
    "\n",
    "pol.close()\n",
    "rus.close()\n",
    "ukr.close()\n"
   ]
  }
 ],
 "metadata": {
  "kernelspec": {
   "display_name": "Python 3.10.4 64-bit",
   "language": "python",
   "name": "python3"
  },
  "language_info": {
   "codemirror_mode": {
    "name": "ipython",
    "version": 3
   },
   "file_extension": ".py",
   "mimetype": "text/x-python",
   "name": "python",
   "nbconvert_exporter": "python",
   "pygments_lexer": "ipython3",
   "version": "3.10.4"
  },
  "orig_nbformat": 4,
  "vscode": {
   "interpreter": {
    "hash": "916dbcbb3f70747c44a77c7bcd40155683ae19c65e1c03b4aa3499c5328201f1"
   }
  }
 },
 "nbformat": 4,
 "nbformat_minor": 2
}
