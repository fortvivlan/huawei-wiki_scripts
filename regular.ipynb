{
 "cells": [
  {
   "cell_type": "code",
   "execution_count": 1,
   "metadata": {},
   "outputs": [],
   "source": [
    "import os\n",
    "import re\n",
    "import pickle\n",
    "from collections import Counter"
   ]
  },
  {
   "cell_type": "code",
   "execution_count": 2,
   "metadata": {},
   "outputs": [],
   "source": [
    "ROOT = os.getcwd()[:-20]"
   ]
  },
  {
   "cell_type": "code",
   "execution_count": 6,
   "metadata": {},
   "outputs": [],
   "source": [
    "def get_aliases(lang, catpath, cat, patterns):\n",
    "    nokler = pickle.load(open(f'{ROOT}/{catpath}', 'rb'))\n",
    "    aliases = {}\n",
    "    path = f'{ROOT}/dumps/{lang}'\n",
    "    for file in os.listdir(path):\n",
    "        if not file.endswith('.bin'):\n",
    "            continue\n",
    "        data = pickle.load(open(os.path.join(path, file), 'rb'))\n",
    "        for title, value in data.items():\n",
    "            if title in nokler:\n",
    "                for pattern in patterns:\n",
    "                    search = re.findall(pattern, value[0].split('\\n')[0])\n",
    "                    if search:\n",
    "                        aliases[title] = [x for x in search if x]\n",
    "    pickle.dump(aliases, open(f'{path}/regulars_{cat}', 'wb'))\n",
    "    return aliases"
   ]
  },
  {
   "cell_type": "code",
   "execution_count": 4,
   "metadata": {},
   "outputs": [],
   "source": [
    "pattern1 = re.compile(r'^.*?\\(.*?(?:(?:также.*?([А-Я][А-Яа-я ]+(?= [а-я]))(?: или ([\\w ]+))?)?.*?([a-zA-Z]+(?: [a-zA-Z]+)*)).*?\\)')\n",
    "pattern2 = re.compile(r'^.*?\\(.*?имя ([\\w ]+)\\)')"
   ]
  },
  {
   "cell_type": "code",
   "execution_count": 7,
   "metadata": {},
   "outputs": [],
   "source": [
    "test = get_aliases('ru', 'names/ru_per_5000', 'per', [pattern1, pattern2])"
   ]
  },
  {
   "cell_type": "code",
   "execution_count": 8,
   "metadata": {},
   "outputs": [
    {
     "data": {
      "text/plain": [
       "1932"
      ]
     },
     "execution_count": 8,
     "metadata": {},
     "output_type": "execute_result"
    }
   ],
   "source": [
    "len(test)"
   ]
  },
  {
   "cell_type": "code",
   "execution_count": 10,
   "metadata": {},
   "outputs": [],
   "source": [
    "i = 0\n",
    "with open('regularpers.txt', 'w') as file:\n",
    "    for key in test:\n",
    "        if i > 15:\n",
    "            break\n",
    "        i += 1\n",
    "        print(f\"{key}\\n\\t{test[key]}\", file=file)"
   ]
  }
 ],
 "metadata": {
  "kernelspec": {
   "display_name": "Python 3.9.12 ('huawei')",
   "language": "python",
   "name": "python3"
  },
  "language_info": {
   "codemirror_mode": {
    "name": "ipython",
    "version": 3
   },
   "file_extension": ".py",
   "mimetype": "text/x-python",
   "name": "python",
   "nbconvert_exporter": "python",
   "pygments_lexer": "ipython3",
   "version": "3.9.12"
  },
  "orig_nbformat": 4,
  "vscode": {
   "interpreter": {
    "hash": "2bb79a41a93e0a2295d76faf94992bd34b2d2d698776e22ca1184eb4e5811e07"
   }
  }
 },
 "nbformat": 4,
 "nbformat_minor": 2
}
