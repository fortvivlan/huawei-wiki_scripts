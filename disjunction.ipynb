{
 "cells": [
  {
   "cell_type": "code",
   "execution_count": 3,
   "metadata": {},
   "outputs": [],
   "source": [
    "import os\n",
    "import pickle"
   ]
  },
  {
   "cell_type": "code",
   "execution_count": null,
   "metadata": {},
   "outputs": [],
   "source": [
    "ROOT = os.getcwd()[:-20]"
   ]
  },
  {
   "cell_type": "code",
   "execution_count": 1,
   "metadata": {},
   "outputs": [],
   "source": [
    "def disjunct(lang, catpath, cat):\n",
    "    res = {}\n",
    "    count = 0\n",
    "    nokler = pickle.load(open(catpath, 'rb'))\n",
    "    redirects = pickle.load(open(f'{ROOT}/dumps/{lang}/redirect', 'rb'))\n",
    "    for nokkel in nokler:\n",
    "        item = redirects.get(nokkel)\n",
    "        if item:\n",
    "            res[nokkel] = item\n",
    "        else:\n",
    "            count += 1\n",
    "            res[nokkel] = []\n",
    "    pickle.dump(res, open(f'{ROOT}/dumps/{lang}/dataset1_{cat}', 'wb'))\n",
    "    return count\n",
    "        "
   ]
  },
  {
   "cell_type": "code",
   "execution_count": 16,
   "metadata": {},
   "outputs": [
    {
     "name": "stdout",
     "output_type": "stream",
     "text": [
      "PER: 2982\n",
      "LOC: 135\n",
      "ORG: 2009\n"
     ]
    }
   ],
   "source": [
    "print(f\"PER: {disjunct('be', '{ROOT}/names/be_per_5000', 'per')}\")\n",
    "print(f\"LOC: {disjunct('be', '{ROOT}/names/be_loc_575', 'loc')}\")\n",
    "print(f\"ORG: {disjunct('be', '{ROOT}/names/be_org_3000', 'org')}\")"
   ]
  },
  {
   "cell_type": "code",
   "execution_count": 17,
   "metadata": {},
   "outputs": [
    {
     "name": "stdout",
     "output_type": "stream",
     "text": [
      "PER: 4917\n",
      "LOC: 350\n",
      "ORG: 2629\n"
     ]
    }
   ],
   "source": [
    "print(f\"PER: {disjunct('pl', '{ROOT}/names/pl_per_5000', 'per')}\")\n",
    "print(f\"LOC: {disjunct('pl', '{ROOT}/names/pl_loc_565', 'loc')}\")\n",
    "print(f\"ORG: {disjunct('pl', '{ROOT}/names/pl_org_3000', 'org')}\")"
   ]
  },
  {
   "cell_type": "code",
   "execution_count": 18,
   "metadata": {},
   "outputs": [
    {
     "name": "stdout",
     "output_type": "stream",
     "text": [
      "PER: 668\n",
      "LOC: 106\n",
      "ORG: 2007\n"
     ]
    }
   ],
   "source": [
    "print(f\"PER: {disjunct('ru', '{ROOT}/names/ru_per_5000', 'per')}\")\n",
    "print(f\"LOC: {disjunct('ru', '{ROOT}/names/ru_loc_573', 'loc')}\")\n",
    "print(f\"ORG: {disjunct('ru', '{ROOT}/names/ru_org_3000', 'org')}\")"
   ]
  },
  {
   "cell_type": "code",
   "execution_count": 4,
   "metadata": {},
   "outputs": [
    {
     "name": "stdout",
     "output_type": "stream",
     "text": [
      "PRO: 1723\n"
     ]
    }
   ],
   "source": [
    "print(f\"PRO: {disjunct('ru', '{ROOT}/names/ru_pro_2484', 'pro')}\")"
   ]
  },
  {
   "cell_type": "code",
   "execution_count": 19,
   "metadata": {},
   "outputs": [
    {
     "name": "stdout",
     "output_type": "stream",
     "text": [
      "PER: 4592\n",
      "LOC: 421\n",
      "ORG: 2767\n"
     ]
    }
   ],
   "source": [
    "print(f\"PER: {disjunct('uk', '{ROOT}/names/uk_per_5000', 'per')}\")\n",
    "print(f\"LOC: {disjunct('uk', '{ROOT}/names/uk_loc_570', 'loc')}\")\n",
    "print(f\"ORG: {disjunct('uk', '{ROOT}/names/uk_org_3000', 'org')}\")"
   ]
  }
 ],
 "metadata": {
  "kernelspec": {
   "display_name": "Python 3.9.12 ('huawei')",
   "language": "python",
   "name": "python3"
  },
  "language_info": {
   "codemirror_mode": {
    "name": "ipython",
    "version": 3
   },
   "file_extension": ".py",
   "mimetype": "text/x-python",
   "name": "python",
   "nbconvert_exporter": "python",
   "pygments_lexer": "ipython3",
   "version": "3.9.12"
  },
  "orig_nbformat": 4,
  "vscode": {
   "interpreter": {
    "hash": "2bb79a41a93e0a2295d76faf94992bd34b2d2d698776e22ca1184eb4e5811e07"
   }
  }
 },
 "nbformat": 4,
 "nbformat_minor": 2
}
